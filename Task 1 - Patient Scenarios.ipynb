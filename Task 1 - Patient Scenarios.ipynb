{
 "cells": [
  {
   "cell_type": "markdown",
   "id": "8931674d-b0cd-4a5a-944d-39b220bc1694",
   "metadata": {},
   "source": [
    "# Task 1 - Patient Scenarios\n",
    "\n",
    "In this code, we load 11 patient stems and 4 Hgb levels, creating 44 scenarios. We define a way to systematically query the GPT API with these scenarios, and then for each `model` in `models` we test all scenarios. We do this in batches of `batch_size` and we repeat our tests for a number of `duplication_folds`. The code beyond that is a little more hacked together, but we generate some tables to see how our models perform relative to the truth table (see paper).\n",
    "\n",
    "This code should run with relatively little setup. Be sure to have initialized an OpenAI account (see https://platform.openai.com/docs/api-reference/introduction). Once you have done that, point `openai.api_key_path` to wherever you have saved your API key."
   ]
  },
  {
   "cell_type": "code",
   "execution_count": 1,
   "id": "23f5f1b0-6e1e-41e1-97ce-89a2e406c174",
   "metadata": {},
   "outputs": [
    {
     "name": "stdout",
     "output_type": "stream",
     "text": [
      "pd.__version__='1.5.3', np.__version__='1.23.5', matplotlib.__version__='3.7.0'\n"
     ]
    }
   ],
   "source": [
    "import openai\n",
    "import time\n",
    "import pandas as pd\n",
    "import numpy as np\n",
    "import requests.exceptions\n",
    "import random\n",
    "\n",
    "import matplotlib\n",
    "matplotlib.use('Agg')\n",
    "import matplotlib.pyplot as plt\n",
    "%matplotlib inline\n",
    "\n",
    "print(f'{pd.__version__=}, {np.__version__=}, {matplotlib.__version__=}')\n",
    "\n",
    "from io import StringIO"
   ]
  },
  {
   "cell_type": "code",
   "execution_count": 22,
   "id": "c56f0144-191e-4cb6-b7a9-85053063b779",
   "metadata": {},
   "outputs": [],
   "source": [
    "from sklearn.metrics import RocCurveDisplay, PrecisionRecallDisplay, confusion_matrix, accuracy_score, precision_score, recall_score, f1_score"
   ]
  },
  {
   "cell_type": "markdown",
   "id": "2e05f4d0-bb6c-46e3-9c16-631a9efd2654",
   "metadata": {},
   "source": [
    "Edit the code below to wherever your API key lives."
   ]
  },
  {
   "cell_type": "code",
   "execution_count": 2,
   "id": "ccfcd6cb-683a-46e2-96a9-c33a6618e4fd",
   "metadata": {},
   "outputs": [],
   "source": [
    "openai.api_key_path = 'api_key'"
   ]
  },
  {
   "cell_type": "markdown",
   "id": "170673ab-8414-4e12-92b6-b66ec81eb980",
   "metadata": {},
   "source": [
    "Models:\n",
    "\n",
    "- gpt-4-0314 : Snapshot of gpt-4 from March 14th 2023. 8k model. \\$0.0300 per 1k tokens (15x cost of 3.5). Max 8,192 tokens per request.\n",
    "- gpt-3.5-turbo : most powerful (current) model, costs \\$0.0020 per 1k tokens. Max 4,096 tokens per request. Current version is gpt-3.5-turbo-0301. Trained up to Sept 2021.\n",
    "- ada : fastest model, costs \\$0.0004 per 1k tokens (1/5 of 3.5). Max 2,049 tokens per request. Trained up to Oct 2019.\n",
    "- babbage : slightly slower than ada, but more nuanced. Costs \\$0.0005 per 1k tokens. Max 2,049 tokens per request. Trained up to Oct 2019.\n",
    "- curie : again slower, costs \\$0.0020 per 1k tokens (same price as 3.5). Max 2,049 tokens per request. Trained up to Oct 2019.\n",
    "- davinci : strongest 3.0 model, comparable to 3.5 turbo. Costs \\$0.0200 per 1k tokens (10x cost of 3.5). Max 2,049 tokens per request. Trained up to Oct 2019."
   ]
  },
  {
   "cell_type": "code",
   "execution_count": 3,
   "id": "a71cc9b2-d787-40bf-8ac4-f8052eb4db48",
   "metadata": {},
   "outputs": [
    {
     "name": "stdout",
     "output_type": "stream",
     "text": [
      "Scenarios loaded. There are currently 44 possible scenarios.\n"
     ]
    },
    {
     "data": {
      "text/plain": [
       "['Patient 1A: A 71-year-old, 81 kg man with a history of atrial fibrillation had surgical repair of a traumatic hip fracture yesterday. He is currently in the orthopedic ward. His hemoglobin is 5.5 g/dL.',\n",
       " 'Patient 1B: A 71-year-old, 81 kg man with a history of atrial fibrillation had surgical repair of a traumatic hip fracture yesterday. He is currently in the orthopedic ward. His hemoglobin is 7.2 g/dL.']"
      ]
     },
     "execution_count": 3,
     "metadata": {},
     "output_type": "execute_result"
    }
   ],
   "source": [
    "with open('patient_stems.txt') as f:\n",
    "    pt_stems = [line.strip() for line in f]\n",
    "    \n",
    "hgb_levels = [\n",
    "    '5.5 g/dL.',\n",
    "    '7.2 g/dL.',\n",
    "    '8.5 g/dL.',\n",
    "    '10.8 g/dL.',\n",
    "]\n",
    "    \n",
    "print(f'Scenarios loaded. There are currently {len(pt_stems)*len(hgb_levels)} possible scenarios.')\n",
    "\n",
    "scenarios = []\n",
    "for i in range(len(pt_stems)):\n",
    "    for j in range(len(hgb_levels)):\n",
    "        patient = f'{i+1}' + chr(ord('A') + j)\n",
    "        scenario = f'Patient {patient}: {pt_stems[i]} {hgb_levels[j]}'\n",
    "        scenarios.append(scenario)\n",
    "\n",
    "scenarios[:2]"
   ]
  },
  {
   "cell_type": "markdown",
   "id": "a7d0ac0f-f46b-4bcd-898a-5bd515924ee5",
   "metadata": {},
   "source": [
    "## Test Parameters\n",
    "\n",
    "Change the two cells below in order to determine which models are used and which testing parameters are used."
   ]
  },
  {
   "cell_type": "code",
   "execution_count": 4,
   "id": "f5651991-774a-49fb-ab15-9d29b91bb6ea",
   "metadata": {},
   "outputs": [],
   "source": [
    "models = ['gpt-3.5-turbo-0301', 'gpt-4-0314']"
   ]
  },
  {
   "cell_type": "code",
   "execution_count": 5,
   "id": "5ffdfc6e-1a84-4bc6-9a16-53d4ba9273d9",
   "metadata": {},
   "outputs": [],
   "source": [
    "batch_size = 5\n",
    "duplication_folds = 50"
   ]
  },
  {
   "cell_type": "markdown",
   "id": "7e43db8b-716a-4b9f-b7e8-0f621dbd5e12",
   "metadata": {},
   "source": [
    "## Useful Functions\n",
    "\n",
    "First function creates a `messages` list that will feed into the GPT API.\n",
    "\n",
    "Second function cleans some logic to handle errors when the API is busy or throwing errors. Also tries to make sure that the GPT returned data in a table, as requested.\n",
    "\n",
    "Third function gives some simple stats."
   ]
  },
  {
   "cell_type": "code",
   "execution_count": null,
   "id": "e6af39f9-50a9-442a-a889-4ed95daa0ec4",
   "metadata": {},
   "outputs": [],
   "source": [
    "def get_messages(prompts):\n",
    "    messages = [\n",
    "        {'role': 'system', 'content': 'You are an assistant to an anesthesiologist planning procedures.'},\n",
    "        {'role': 'user', 'content': 'You are an assistant for a hospital transfusion medicine physician reviewing requests for red blood cell transfusion. For each case, please indicate whether a red blood cell transfusion is indicated (1 for “yes” or 0 “no”). Please also indicate what the minimum post-transfusion hemoglobin goal is, in units of g/dL. Unless stated otherwise, assume that every patient is hemodynamically stable and not actively bleeding. Please format your table as a csv that uses ; as the separator. Denote the start and end of your table with three tildes (~~~). Use `ID`, `transfusion`, and `target` as the columns in the table and do not include the word \"Patient\" when giving the ID of the patient. In the `target` column give your answer as a number with one decimal place and no units (the unlabeled units are g/dL). If there is no applicable target, the entry should be empty. Here is an example response: `~~~\\nID;transfusion;target\\nXX;1;7.0\\nYY;0;\\nZZ;1;9.5\\n~~~`'},\n",
    "        {'role': 'assistant', \"content\": \"Sure, I can help you with that. Please provide me with the patient scenarios.\",},\n",
    "        #{\n",
    "        #    'role': 'user',\n",
    "        #    'content': PROMPT_HERE\n",
    "        #},\n",
    "    ]\n",
    "    for p in prompts:\n",
    "        messages.append(\n",
    "                {\n",
    "            'role': 'user',\n",
    "            'content': p\n",
    "        }\n",
    "            )\n",
    "\n",
    "    return messages"
   ]
  },
  {
   "cell_type": "code",
   "execution_count": 7,
   "id": "497def38-0d50-4c5f-9e84-679f34ffedd4",
   "metadata": {},
   "outputs": [],
   "source": [
    "def val_response(response):\n",
    "    if response['choices'][0]['finish_reason'] != 'stop':\n",
    "        raise Exception('Response failed- message incomplete')\n",
    "            \n",
    "    if len(response['choices'][0]['message']['content'].split('~~~')) < 2:\n",
    "        print('\\nError occurred with response. Likely misformatted:')\n",
    "        print(response['choices'][0]['message']['content'])\n",
    "        raise Exception('Response failed- message misformatted')\n",
    "        \n",
    "    return True"
   ]
  },
  {
   "cell_type": "code",
   "execution_count": 20,
   "id": "fbab6406-6d7c-4df0-8138-7507873c76da",
   "metadata": {},
   "outputs": [],
   "source": [
    "def get_metrics(y_true, y_pred):\n",
    "    # Assume y_true and y_pred are the true and predicted binary labels\n",
    "    # for a set of test examples\n",
    "    \n",
    "    # Calculate confusion matrix\n",
    "    cm = confusion_matrix(y_true, y_pred)\n",
    "    \n",
    "    # Calculate performance metrics\n",
    "    accuracy = accuracy_score(y_true, y_pred)\n",
    "    precision = precision_score(y_true, y_pred)\n",
    "    recall = recall_score(y_true, y_pred)\n",
    "    f1 = f1_score(y_true, y_pred)\n",
    "    \n",
    "    # Extract true positive, false negative, false positive, and true negative counts\n",
    "    tn, fp, fn, tp = cm.ravel()\n",
    "    \n",
    "    # Print metrics\n",
    "    print(f'True positives: {tp}, False negatives: {fn}, False positives: {fp}, True negatives: {tn}')\n",
    "    print(f'Accuracy: {accuracy:.4f}')\n",
    "    print(f'Precision: {precision:.4f}')\n",
    "    print(f'Recall: {recall:.4f}')\n",
    "    print(f'F1 score: {f1:.4f}')\n"
   ]
  },
  {
   "cell_type": "markdown",
   "id": "9e238ae6-5e6c-4180-a5ce-516bdd7c16c7",
   "metadata": {},
   "source": [
    "## Testing Loop"
   ]
  },
  {
   "cell_type": "code",
   "execution_count": 8,
   "id": "690aa970-ef37-459a-81f4-ccb3ed0fd197",
   "metadata": {},
   "outputs": [
    {
     "name": "stdout",
     "output_type": "stream",
     "text": [
      "Starting with model='gpt-3.5-turbo-0301', batch_size=5, duplication_folds=50\n",
      "**************************************************\n",
      "Task completed on model='gpt-3.5-turbo-0301' with 295876 total tokens and a total cost of $0.59. Total time elapsed: 1760.89s (29.35 minutes)\n",
      "Starting with model='gpt-4-0314', batch_size=5, duplication_folds=50\n",
      "*******\n",
      "Unexpected error occurred: That model is currently overloaded with other requ. Retrying in 30 seconds...\n",
      "********\n",
      "Unexpected error occurred: That model is currently overloaded with other requ. Retrying in 30 seconds...\n",
      "***\n",
      "Unexpected error occurred: That model is currently overloaded with other requ. Retrying in 30 seconds...\n",
      "****\n",
      "Unexpected error occurred: That model is currently overloaded with other requ. Retrying in 30 seconds...\n",
      "***********************\n",
      "Unexpected error occurred: That model is currently overloaded with other requ. Retrying in 30 seconds...\n",
      "*****\n",
      "Task completed on model='gpt-4-0314' with 275184 total tokens and a total cost of $8.22. Total time elapsed: 3390.76s (56.51 minutes)\n"
     ]
    }
   ],
   "source": [
    "results = {m : [] for m in models}\n",
    "for model in models:\n",
    "    print(f'Starting with {model=}, {batch_size=}, {duplication_folds=}')\n",
    "    # Shuffle the scenarios\n",
    "    random.seed(1234)\n",
    "    random.shuffle(scenarios)\n",
    "    \n",
    "    token_count = 0\n",
    "    start_time = time.time()\n",
    "    for fold in range(duplication_folds):\n",
    "        \n",
    "        #print(f\"Starting fold {fold}\", end=\" \")\n",
    "        random.shuffle(scenarios)\n",
    "        \n",
    "        for i in range(0, len(scenarios), batch_size):\n",
    "            thous_tokens = token_count // 1000\n",
    "            if 'gpt-4' in model:\n",
    "                cost = 0.03 * thous_tokens\n",
    "            elif 'gpt-3.5' in model:\n",
    "                cost = 0.002 * thous_tokens\n",
    "            else:\n",
    "                cost = float('inf')\n",
    "            #print(f'{i=}, {thous_tokens=:.0f}k tokens ${cost:.3f}', end=' ')\n",
    "            \n",
    "            while True:\n",
    "                try:\n",
    "                    response = openai.ChatCompletion.create(\n",
    "                        model=model,\n",
    "                        messages=get_messages(scenarios[i:i+batch_size]),\n",
    "                        temperature=0,\n",
    "                    )\n",
    "                    if val_response(response):\n",
    "                        break\n",
    "                except (\n",
    "                    openai.error.APIConnectionError,\n",
    "                    requests.exceptions.Timeout,\n",
    "                    requests.exceptions.ConnectionError,\n",
    "                    openai.error.APIError,\n",
    "                    openai.error.ServiceUnavailableError,\n",
    "                    TimeoutError\n",
    "                ) as e:\n",
    "                    print(f\"\\nConnection error occurred: {str(e)[:50]}: Retrying in 30 seconds...\")\n",
    "                    time.sleep(30)                \n",
    "                except Exception as e:\n",
    "                    print(f\"\\nUnexpected error occurred: {str(e)[:50]}. Retrying in 30 seconds...\")\n",
    "                    time.sleep(30)\n",
    "                    \n",
    "            token_count += response['usage']['total_tokens']\n",
    "            r = response['choices'][0]['message']['content'].split('~~~')[1].strip()\n",
    "            results[model].append(pd.read_csv(StringIO(r), sep=';'))\n",
    "            #print(f\"completed. Tokens: {response['usage']['total_tokens']}, time elapsed: {time.time()-start_time:.2f}s\")\n",
    "        #print(f'Finished fold {fold}. Total time elapsed: {time.time()-start_time:.2f}s')\n",
    "        print('*',end='')\n",
    "    print(f'\\nTask completed on {model=} with {token_count} total tokens and a total cost of ${cost:.2f}. Total time elapsed: {time.time()-start_time:.2f}s ({(time.time()-start_time)/60:.2f} minutes)')\n"
   ]
  },
  {
   "cell_type": "markdown",
   "id": "76aca96a-e6b8-4ded-a279-1f3b5488775d",
   "metadata": {},
   "source": [
    "## Data Reformatting\n",
    "\n",
    "Collates data into a unified `df` per model. Note that this is hardcoded, so should rewrite if you use new/different models. Saves models to results and loads in the truth table."
   ]
  },
  {
   "cell_type": "code",
   "execution_count": 12,
   "id": "96728add-0845-4593-b144-ef0a53c756c3",
   "metadata": {},
   "outputs": [],
   "source": [
    "pd.concat(results['gpt-3.5-turbo-0301'], ignore_index=True).to_csv('results/txf_3-5-apr_30_23.csv')\n",
    "pd.concat(results['gpt-4-0314'], ignore_index=True).to_csv('results/txf4-apr_30_23.csv')"
   ]
  },
  {
   "cell_type": "code",
   "execution_count": 13,
   "id": "bdc233d0-3e9c-49b9-ad2b-e3137ad450a5",
   "metadata": {},
   "outputs": [],
   "source": [
    "full_results_3_5 = pd.concat(results['gpt-3.5-turbo-0301'], ignore_index=True)\n",
    "full_results_4   = pd.concat(results['gpt-4-0314'], ignore_index=True)"
   ]
  },
  {
   "cell_type": "code",
   "execution_count": 18,
   "id": "eee29cf6-8479-4eea-a5fd-cf9737096305",
   "metadata": {},
   "outputs": [],
   "source": [
    "df_3_5 = full_results_3_5.groupby(['ID']).agg({'transfusion': 'mean'})\n",
    "df_3_5.reset_index(inplace=True)\n",
    "df_3_5.rename(columns={'transfusion': 'GPT3_5'}, inplace=True)\n",
    "\n",
    "df_4 = full_results_4.groupby(['ID']).agg({'transfusion': 'mean'})\n",
    "df_4.reset_index(inplace=True)\n",
    "df_4.rename(columns={'transfusion': 'GPT_4'}, inplace=True)\n",
    "\n",
    "key = pd.read_csv('results/key.csv')"
   ]
  },
  {
   "cell_type": "code",
   "execution_count": 19,
   "id": "e87d26dc-4cb1-4d81-ae14-f4ef5a30b4db",
   "metadata": {},
   "outputs": [
    {
     "data": {
      "text/html": [
       "<div>\n",
       "<style scoped>\n",
       "    .dataframe tbody tr th:only-of-type {\n",
       "        vertical-align: middle;\n",
       "    }\n",
       "\n",
       "    .dataframe tbody tr th {\n",
       "        vertical-align: top;\n",
       "    }\n",
       "\n",
       "    .dataframe thead th {\n",
       "        text-align: right;\n",
       "    }\n",
       "</style>\n",
       "<table border=\"1\" class=\"dataframe\">\n",
       "  <thead>\n",
       "    <tr style=\"text-align: right;\">\n",
       "      <th></th>\n",
       "      <th>ID</th>\n",
       "      <th>transfusion</th>\n",
       "      <th>GPT3_5</th>\n",
       "      <th>GPT_4</th>\n",
       "    </tr>\n",
       "  </thead>\n",
       "  <tbody>\n",
       "    <tr>\n",
       "      <th>0</th>\n",
       "      <td>1A</td>\n",
       "      <td>1</td>\n",
       "      <td>1.00</td>\n",
       "      <td>1.00</td>\n",
       "    </tr>\n",
       "    <tr>\n",
       "      <th>1</th>\n",
       "      <td>1B</td>\n",
       "      <td>1</td>\n",
       "      <td>0.82</td>\n",
       "      <td>0.76</td>\n",
       "    </tr>\n",
       "    <tr>\n",
       "      <th>2</th>\n",
       "      <td>1C</td>\n",
       "      <td>0</td>\n",
       "      <td>0.40</td>\n",
       "      <td>0.16</td>\n",
       "    </tr>\n",
       "    <tr>\n",
       "      <th>3</th>\n",
       "      <td>1D</td>\n",
       "      <td>0</td>\n",
       "      <td>0.00</td>\n",
       "      <td>0.00</td>\n",
       "    </tr>\n",
       "    <tr>\n",
       "      <th>4</th>\n",
       "      <td>2A</td>\n",
       "      <td>1</td>\n",
       "      <td>1.00</td>\n",
       "      <td>1.00</td>\n",
       "    </tr>\n",
       "  </tbody>\n",
       "</table>\n",
       "</div>"
      ],
      "text/plain": [
       "   ID  transfusion  GPT3_5  GPT_4\n",
       "0  1A            1    1.00   1.00\n",
       "1  1B            1    0.82   0.76\n",
       "2  1C            0    0.40   0.16\n",
       "3  1D            0    0.00   0.00\n",
       "4  2A            1    1.00   1.00"
      ]
     },
     "execution_count": 19,
     "metadata": {},
     "output_type": "execute_result"
    }
   ],
   "source": [
    "df = key.merge(df_3_5, on='ID', how='outer')\n",
    "df = df.merge(df_4, on='ID', how='outer')\n",
    "df.head()"
   ]
  },
  {
   "cell_type": "code",
   "execution_count": 28,
   "id": "a9d0ef87-e2c0-4ee8-8bd4-22829462945f",
   "metadata": {},
   "outputs": [],
   "source": [
    "df.to_csv('results/txf_4_30_compiled.csv')"
   ]
  },
  {
   "cell_type": "markdown",
   "id": "86fc7392-276d-4742-8051-a726441d9b5d",
   "metadata": {},
   "source": [
    "## Data Visualization"
   ]
  },
  {
   "cell_type": "code",
   "execution_count": 27,
   "id": "98cc5902-2921-4443-9313-c386feef38fb",
   "metadata": {},
   "outputs": [
    {
     "name": "stdout",
     "output_type": "stream",
     "text": [
      "Summary statistics for GPT 3.5 assuming a probability cutoff of >0.5:\n",
      "True positives: 16, False negatives: 0, False positives: 16, True negatives: 12\n",
      "Accuracy: 0.6364\n",
      "Precision: 0.5000\n",
      "Recall: 1.0000\n",
      "F1 score: 0.6667\n",
      "Summary statistics for GPT 4 assuming a probability cutoff of >0.5:\n",
      "True positives: 16, False negatives: 0, False positives: 8, True negatives: 20\n",
      "Accuracy: 0.8182\n",
      "Precision: 0.6667\n",
      "Recall: 1.0000\n",
      "F1 score: 0.8000\n"
     ]
    },
    {
     "data": {
      "image/png": "[encoded data removed]",
      "text/plain": [
       "<Figure size 800x800 with 1 Axes>"
      ]
     },
     "metadata": {},
     "output_type": "display_data"
    }
   ],
   "source": [
    "fig, ax = plt.subplots(figsize=(8,8))\n",
    "\n",
    "temp_df = df[['ID', 'transfusion', 'GPT3_5']]\n",
    "name = 'GPT 3.5'\n",
    "RocCurveDisplay.from_predictions(\n",
    "    y_true=temp_df.transfusion,\n",
    "    y_pred=temp_df.iloc[:,-1],\n",
    "    name=name,\n",
    "    ax=ax,\n",
    ")\n",
    "print(f'Summary statistics for {name} assuming a probability cutoff of >0.5:')\n",
    "get_metrics(temp_df.transfusion > 0.5, temp_df.iloc[:,-1] > 0.5)\n",
    "\n",
    "temp_df = df[['ID', 'transfusion', 'GPT_4']]\n",
    "name = 'GPT 4'\n",
    "RocCurveDisplay.from_predictions(\n",
    "    y_true=temp_df.transfusion,\n",
    "    y_pred=temp_df.iloc[:,-1],\n",
    "    name=name,\n",
    "    ax=ax,\n",
    ")\n",
    "print(f'Summary statistics for {name} assuming a probability cutoff of >0.5:')\n",
    "get_metrics(temp_df.transfusion > 0.5, temp_df.iloc[:,-1] > 0.5)\n",
    "\n",
    "plt.plot([0, 1], [0, 1], \"k--\", label=\"ROC curve for chance level (AUC = 0.5)\")\n",
    "plt.axis(\"square\")\n",
    "plt.xlabel(\"False Positive Rate\")\n",
    "plt.ylabel(\"True Positive Rate\")\n",
    "plt.title(\"ROC for Transfusion Indication\")\n",
    "plt.legend()\n",
    "plt.show()"
   ]
  },
  {
   "cell_type": "code",
   "execution_count": 26,
   "id": "85d631ea-7029-4a0c-ae3d-4eac2fb0cac0",
   "metadata": {},
   "outputs": [
    {
     "data": {
      "image/png": "[encoded data removed]",
      "text/plain": [
       "<Figure size 800x800 with 1 Axes>"
      ]
     },
     "metadata": {},
     "output_type": "display_data"
    }
   ],
   "source": [
    "fig, ax = plt.subplots(figsize=(8,8))\n",
    "\n",
    "temp_df = df[['ID', 'transfusion', 'GPT3_5']]\n",
    "name = 'GPT 3.5'\n",
    "PrecisionRecallDisplay.from_predictions(\n",
    "    y_true=temp_df.transfusion,\n",
    "    y_pred=temp_df.iloc[:,-1],\n",
    "    name=name,\n",
    "    ax=ax,\n",
    ")\n",
    "\n",
    "temp_df = df[['ID', 'transfusion', 'GPT_4']]\n",
    "name = 'GPT 4'\n",
    "PrecisionRecallDisplay.from_predictions(\n",
    "    y_true=temp_df.transfusion,\n",
    "    y_pred=temp_df.iloc[:,-1],\n",
    "    name=name,\n",
    "    ax=ax,\n",
    ")\n",
    "\n",
    "plt.axis(\"square\")\n",
    "plt.xlabel(\"False Positive Rate\")\n",
    "plt.ylabel(\"True Positive Rate\")\n",
    "plt.title(\"PRC for Transfusion Indication\")\n",
    "plt.legend()\n",
    "plt.xlim(-.1,1.1)\n",
    "plt.ylim(-.1,1.1)\n",
    "plt.show()"
   ]
  }
 ],
 "metadata": {
  "kernelspec": {
   "display_name": "Python 3 (ipykernel)",
   "language": "python",
   "name": "python3"
  },
  "language_info": {
   "codemirror_mode": {
    "name": "ipython",
    "version": 3
   },
   "file_extension": ".py",
   "mimetype": "text/x-python",
   "name": "python",
   "nbconvert_exporter": "python",
   "pygments_lexer": "ipython3",
   "version": "3.11.0"
  }
 },
 "nbformat": 4,
 "nbformat_minor": 5
}
